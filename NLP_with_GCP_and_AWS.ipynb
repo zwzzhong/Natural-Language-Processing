{
  "nbformat": 4,
  "nbformat_minor": 0,
  "metadata": {
    "colab": {
      "name": "NLP_with_GCP_and_AWS.ipynb",
      "version": "0.3.2",
      "provenance": [],
      "collapsed_sections": [],
      "include_colab_link": true
    },
    "kernelspec": {
      "name": "python3",
      "display_name": "Python 3"
    }
  },
  "cells": [
    {
      "cell_type": "markdown",
      "metadata": {
        "id": "view-in-github",
        "colab_type": "text"
      },
      "source": [
        "<a href=\"https://colab.research.google.com/github/zwzzhong/Natural-Language-Processing/blob/master/NLP_with_GCP_and_AWS.ipynb\" target=\"_parent\"><img src=\"https://colab.research.google.com/assets/colab-badge.svg\" alt=\"Open In Colab\"/></a>"
      ]
    },
    {
      "cell_type": "markdown",
      "metadata": {
        "id": "yR905tIkEepJ",
        "colab_type": "text"
      },
      "source": [
        "#**Natural Language Processing**"
      ]
    },
    {
      "cell_type": "markdown",
      "metadata": {
        "id": "xuZAJ7IpE4zS",
        "colab_type": "text"
      },
      "source": [
        "## Ingest"
      ]
    },
    {
      "cell_type": "code",
      "metadata": {
        "id": "qLjHVI-tLqlm",
        "colab_type": "code",
        "colab": {}
      },
      "source": [
        "!pip -q install boto3"
      ],
      "execution_count": 0,
      "outputs": []
    },
    {
      "cell_type": "code",
      "metadata": {
        "id": "RF7ZO-KPEPRa",
        "colab_type": "code",
        "colab": {}
      },
      "source": [
        "import pandas as pd \n",
        "import json \n",
        "import os #to set credentials to enviroment \n",
        "\n",
        "#AWS Comprehend\n",
        "import boto3\n",
        "\n",
        "# Imports the Google Cloud client library for GCP Natural Language API\n",
        "from google.cloud import language_v1\n",
        "from google.cloud.language_v1 import enums\n",
        "import six"
      ],
      "execution_count": 0,
      "outputs": []
    },
    {
      "cell_type": "code",
      "metadata": {
        "id": "f5pF2N7ZCml6",
        "colab_type": "code",
        "outputId": "f2f45712-3dfd-4425-816a-328f08c33f67",
        "colab": {
          "base_uri": "https://localhost:8080/",
          "height": 122
        }
      },
      "source": [
        "from google.colab import drive\n",
        "drive.mount(\"/content/gdrive\", force_remount = True)"
      ],
      "execution_count": 0,
      "outputs": [
        {
          "output_type": "stream",
          "text": [
            "Go to this URL in a browser: https://accounts.google.com/o/oauth2/auth?client_id=947318989803-6bn6qk8qdgf4n4g3pfee6491hc0brc4i.apps.googleusercontent.com&redirect_uri=urn%3Aietf%3Awg%3Aoauth%3A2.0%3Aoob&scope=email%20https%3A%2F%2Fwww.googleapis.com%2Fauth%2Fdocs.test%20https%3A%2F%2Fwww.googleapis.com%2Fauth%2Fdrive%20https%3A%2F%2Fwww.googleapis.com%2Fauth%2Fdrive.photos.readonly%20https%3A%2F%2Fwww.googleapis.com%2Fauth%2Fpeopleapi.readonly&response_type=code\n",
            "\n",
            "Enter your authorization code:\n",
            "··········\n",
            "Mounted at /content/gdrive\n"
          ],
          "name": "stdout"
        }
      ]
    },
    {
      "cell_type": "code",
      "metadata": {
        "id": "t3Q_iqa4D17g",
        "colab_type": "code",
        "outputId": "0582fbd7-716a-4121-9e65-6949b1cc20d2",
        "colab": {
          "base_uri": "https://localhost:8080/",
          "height": 258
        }
      },
      "source": [
        "df = pd.read_csv(\"/content/gdrive/My Drive/Amazon_Review.csv\")\n",
        "\n",
        "df = df[['reviews.rating','reviews.text']]\n",
        "\n",
        "df.head()"
      ],
      "execution_count": 0,
      "outputs": [
        {
          "output_type": "stream",
          "text": [
            "/usr/local/lib/python3.6/dist-packages/IPython/core/interactiveshell.py:2718: DtypeWarning: Columns (1,10) have mixed types. Specify dtype option on import or set low_memory=False.\n",
            "  interactivity=interactivity, compiler=compiler, result=result)\n"
          ],
          "name": "stderr"
        },
        {
          "output_type": "execute_result",
          "data": {
            "text/html": [
              "<div>\n",
              "<style scoped>\n",
              "    .dataframe tbody tr th:only-of-type {\n",
              "        vertical-align: middle;\n",
              "    }\n",
              "\n",
              "    .dataframe tbody tr th {\n",
              "        vertical-align: top;\n",
              "    }\n",
              "\n",
              "    .dataframe thead th {\n",
              "        text-align: right;\n",
              "    }\n",
              "</style>\n",
              "<table border=\"1\" class=\"dataframe\">\n",
              "  <thead>\n",
              "    <tr style=\"text-align: right;\">\n",
              "      <th></th>\n",
              "      <th>reviews.rating</th>\n",
              "      <th>reviews.text</th>\n",
              "    </tr>\n",
              "  </thead>\n",
              "  <tbody>\n",
              "    <tr>\n",
              "      <th>0</th>\n",
              "      <td>5.0</td>\n",
              "      <td>This product so far has not disappointed. My c...</td>\n",
              "    </tr>\n",
              "    <tr>\n",
              "      <th>1</th>\n",
              "      <td>5.0</td>\n",
              "      <td>great for beginner or experienced person. Boug...</td>\n",
              "    </tr>\n",
              "    <tr>\n",
              "      <th>2</th>\n",
              "      <td>5.0</td>\n",
              "      <td>Inexpensive tablet for him to use and learn on...</td>\n",
              "    </tr>\n",
              "    <tr>\n",
              "      <th>3</th>\n",
              "      <td>4.0</td>\n",
              "      <td>I've had my Fire HD 8 two weeks now and I love...</td>\n",
              "    </tr>\n",
              "    <tr>\n",
              "      <th>4</th>\n",
              "      <td>5.0</td>\n",
              "      <td>I bought this for my grand daughter when she c...</td>\n",
              "    </tr>\n",
              "  </tbody>\n",
              "</table>\n",
              "</div>"
            ],
            "text/plain": [
              "   reviews.rating                                       reviews.text\n",
              "0             5.0  This product so far has not disappointed. My c...\n",
              "1             5.0  great for beginner or experienced person. Boug...\n",
              "2             5.0  Inexpensive tablet for him to use and learn on...\n",
              "3             4.0  I've had my Fire HD 8 two weeks now and I love...\n",
              "4             5.0  I bought this for my grand daughter when she c..."
            ]
          },
          "metadata": {
            "tags": []
          },
          "execution_count": 4
        }
      ]
    },
    {
      "cell_type": "code",
      "metadata": {
        "id": "EOitTPHdiAs2",
        "colab_type": "code",
        "colab": {}
      },
      "source": [
        "df1 = df[df['reviews.rating'] == 1].head(25)\n",
        "df2 = df[df['reviews.rating'] == 2].head(25)\n",
        "df3 = df[df['reviews.rating'] == 3].head(25)\n",
        "df4 = df[df['reviews.rating'] == 4].head(25)\n",
        "df5 = df[df['reviews.rating'] == 5].head(25)\n",
        "\n",
        "\n",
        "df = pd.concat((df1, df2, df3, df4, df5))\n",
        "df['reviews'] = df['reviews.text']\n",
        "df = df.drop('reviews.text', axis=1)"
      ],
      "execution_count": 0,
      "outputs": []
    },
    {
      "cell_type": "code",
      "metadata": {
        "id": "1Hf6AHXFGJt_",
        "colab_type": "code",
        "colab": {}
      },
      "source": [
        "df.loc[ df[\"reviews.rating\"] < 3, 'Sentiment' ] = 'NEGATIVE'\n",
        "df.loc[ df[\"reviews.rating\"] > 3, 'Sentiment' ] = 'POSITIVE'\n",
        "df.loc[ df[\"reviews.rating\"] == 3, 'Sentiment' ] = 'NEUTRAL'"
      ],
      "execution_count": 0,
      "outputs": []
    },
    {
      "cell_type": "markdown",
      "metadata": {
        "id": "V0gWrDdPE7Ea",
        "colab_type": "text"
      },
      "source": [
        "## AWS "
      ]
    },
    {
      "cell_type": "markdown",
      "metadata": {
        "id": "IetXOcN_SDp4",
        "colab_type": "text"
      },
      "source": [
        "**Install boto3**\n"
      ]
    },
    {
      "cell_type": "code",
      "metadata": {
        "id": "Bq3xUNzCTLqe",
        "colab_type": "code",
        "outputId": "b3f7eff1-a6ba-4141-90a1-10f5e0b10e82",
        "colab": {
          "base_uri": "https://localhost:8080/",
          "height": 34
        }
      },
      "source": [
        "import os;os.listdir(\"/content/gdrive/My Drive/Colab Notebooks/Credentials\")"
      ],
      "execution_count": 0,
      "outputs": [
        {
          "output_type": "execute_result",
          "data": {
            "text/plain": [
              "['rootkey.csv', 'credentials.csv', 'config.txt', 'credentials.txt']"
            ]
          },
          "metadata": {
            "tags": []
          },
          "execution_count": 7
        }
      ]
    },
    {
      "cell_type": "markdown",
      "metadata": {
        "id": "T8wUYhTPTsGC",
        "colab_type": "text"
      },
      "source": [
        "**Create API Config**"
      ]
    },
    {
      "cell_type": "code",
      "metadata": {
        "id": "_7dNLDISTqOZ",
        "colab_type": "code",
        "colab": {}
      },
      "source": [
        "!mkdir -p ~/.aws &&\\\n",
        "  cat /content/gdrive/My\\ Drive/Colab\\ Notebooks/Credentials/credentials.txt> ~/.aws/credentials\n",
        "\n",
        "!cd ~/.aws &&\\\n",
        "  cat /content/gdrive/My\\ Drive/Colab\\ Notebooks/Credentials/config.txt > ~/.aws/config"
      ],
      "execution_count": 0,
      "outputs": []
    },
    {
      "cell_type": "markdown",
      "metadata": {
        "id": "HdHioUttAWgp",
        "colab_type": "text"
      },
      "source": [
        "**Call API for AWS sentiment analysis**"
      ]
    },
    {
      "cell_type": "code",
      "metadata": {
        "id": "Xx1OpEV-6Hk8",
        "colab_type": "code",
        "outputId": "9078de62-cc10-4734-aade-a351967d6bff",
        "colab": {
          "base_uri": "https://localhost:8080/",
          "height": 221
        }
      },
      "source": [
        "#Test AWS comprehend\n",
        "comprehend = boto3.client(service_name='comprehend', region_name=\"us-east-2\")\n",
        "text = \"There is smoke in San Francisco\"\n",
        "comprehend.detect_sentiment(Text=text, LanguageCode='en')"
      ],
      "execution_count": 0,
      "outputs": [
        {
          "output_type": "execute_result",
          "data": {
            "text/plain": [
              "{'ResponseMetadata': {'HTTPHeaders': {'content-length': '163',\n",
              "   'content-type': 'application/x-amz-json-1.1',\n",
              "   'date': 'Fri, 15 Mar 2019 01:48:59 GMT',\n",
              "   'x-amzn-requestid': '80615f8f-46c4-11e9-8d1d-d5aa0add79c7'},\n",
              "  'HTTPStatusCode': 200,\n",
              "  'RequestId': '80615f8f-46c4-11e9-8d1d-d5aa0add79c7',\n",
              "  'RetryAttempts': 0},\n",
              " 'Sentiment': 'NEUTRAL',\n",
              " 'SentimentScore': {'Mixed': 0.0032753823325037956,\n",
              "  'Negative': 0.05816865712404251,\n",
              "  'Neutral': 0.929866373538971,\n",
              "  'Positive': 0.008689661510288715}}"
            ]
          },
          "metadata": {
            "tags": []
          },
          "execution_count": 9
        }
      ]
    },
    {
      "cell_type": "code",
      "metadata": {
        "id": "dH9BL-JnE-U1",
        "colab_type": "code",
        "colab": {}
      },
      "source": [
        "comprehend = boto3.client(service_name='comprehend', region_name=\"us-east-2\")\n",
        "\n",
        "def get_sentiment(text):\n",
        "  try:\n",
        "    res = comprehend.detect_sentiment(Text=text, LanguageCode='en')[\"Sentiment\"]\n",
        "    return res\n",
        "  except: \n",
        "    return None"
      ],
      "execution_count": 0,
      "outputs": []
    },
    {
      "cell_type": "code",
      "metadata": {
        "id": "J0ymbEZjEOFq",
        "colab_type": "code",
        "colab": {}
      },
      "source": [
        "df[\"reviews\"].astype(str)\n",
        "\n",
        "df[\"AWS_sentiment\"] = df[\"reviews\"].apply(lambda x: get_sentiment(x))"
      ],
      "execution_count": 0,
      "outputs": []
    },
    {
      "cell_type": "code",
      "metadata": {
        "id": "cBfKXvKFHQC9",
        "colab_type": "code",
        "outputId": "ac1acfbb-2928-461a-9cb5-8895ffdb43d0",
        "colab": {
          "base_uri": "https://localhost:8080/",
          "height": 204
        }
      },
      "source": [
        "df.head()"
      ],
      "execution_count": 0,
      "outputs": [
        {
          "output_type": "execute_result",
          "data": {
            "text/html": [
              "<div>\n",
              "<style scoped>\n",
              "    .dataframe tbody tr th:only-of-type {\n",
              "        vertical-align: middle;\n",
              "    }\n",
              "\n",
              "    .dataframe tbody tr th {\n",
              "        vertical-align: top;\n",
              "    }\n",
              "\n",
              "    .dataframe thead th {\n",
              "        text-align: right;\n",
              "    }\n",
              "</style>\n",
              "<table border=\"1\" class=\"dataframe\">\n",
              "  <thead>\n",
              "    <tr style=\"text-align: right;\">\n",
              "      <th></th>\n",
              "      <th>reviews.rating</th>\n",
              "      <th>reviews</th>\n",
              "      <th>Sentiment</th>\n",
              "      <th>AWS_sentiment</th>\n",
              "    </tr>\n",
              "  </thead>\n",
              "  <tbody>\n",
              "    <tr>\n",
              "      <th>126</th>\n",
              "      <td>1.0</td>\n",
              "      <td>i Bought this around black friday for $60 hopi...</td>\n",
              "      <td>NEGATIVE</td>\n",
              "      <td>NEGATIVE</td>\n",
              "    </tr>\n",
              "    <tr>\n",
              "      <th>169</th>\n",
              "      <td>1.0</td>\n",
              "      <td>I bought this tablet for my 4 year old daughte...</td>\n",
              "      <td>NEGATIVE</td>\n",
              "      <td>NEGATIVE</td>\n",
              "    </tr>\n",
              "    <tr>\n",
              "      <th>241</th>\n",
              "      <td>1.0</td>\n",
              "      <td>Didn't want to go to the sites amazon wanted m...</td>\n",
              "      <td>NEGATIVE</td>\n",
              "      <td>NEGATIVE</td>\n",
              "    </tr>\n",
              "    <tr>\n",
              "      <th>297</th>\n",
              "      <td>1.0</td>\n",
              "      <td>This Kindle is so overloaded with apps that I ...</td>\n",
              "      <td>NEGATIVE</td>\n",
              "      <td>NEGATIVE</td>\n",
              "    </tr>\n",
              "    <tr>\n",
              "      <th>310</th>\n",
              "      <td>1.0</td>\n",
              "      <td>I liked it at first except the browser is kind...</td>\n",
              "      <td>NEGATIVE</td>\n",
              "      <td>NEGATIVE</td>\n",
              "    </tr>\n",
              "  </tbody>\n",
              "</table>\n",
              "</div>"
            ],
            "text/plain": [
              "     reviews.rating                                            reviews  \\\n",
              "126             1.0  i Bought this around black friday for $60 hopi...   \n",
              "169             1.0  I bought this tablet for my 4 year old daughte...   \n",
              "241             1.0  Didn't want to go to the sites amazon wanted m...   \n",
              "297             1.0  This Kindle is so overloaded with apps that I ...   \n",
              "310             1.0  I liked it at first except the browser is kind...   \n",
              "\n",
              "    Sentiment AWS_sentiment  \n",
              "126  NEGATIVE      NEGATIVE  \n",
              "169  NEGATIVE      NEGATIVE  \n",
              "241  NEGATIVE      NEGATIVE  \n",
              "297  NEGATIVE      NEGATIVE  \n",
              "310  NEGATIVE      NEGATIVE  "
            ]
          },
          "metadata": {
            "tags": []
          },
          "execution_count": 12
        }
      ]
    },
    {
      "cell_type": "markdown",
      "metadata": {
        "id": "nPaXNRnSZhA9",
        "colab_type": "text"
      },
      "source": [
        "## GCP "
      ]
    },
    {
      "cell_type": "code",
      "metadata": {
        "id": "SCCcUsRVw5fC",
        "colab_type": "code",
        "outputId": "e3c96baf-ecd6-49e3-925f-f3580d9fcd79",
        "colab": {
          "base_uri": "https://localhost:8080/",
          "height": 34
        }
      },
      "source": [
        "!pip install --upgrade -q google-cloud-language"
      ],
      "execution_count": 0,
      "outputs": [
        {
          "output_type": "stream",
          "text": [
            "\u001b[?25l\r\u001b[K    15% |█████                           | 10kB 19.0MB/s eta 0:00:01\r\u001b[K    31% |██████████                      | 20kB 3.3MB/s eta 0:00:01\r\u001b[K    46% |███████████████                 | 30kB 4.8MB/s eta 0:00:01\r\u001b[K    62% |███████████████████▉            | 40kB 3.1MB/s eta 0:00:01\r\u001b[K    77% |████████████████████████▉       | 51kB 3.8MB/s eta 0:00:01\r\u001b[K    93% |█████████████████████████████▉  | 61kB 4.5MB/s eta 0:00:01\r\u001b[K    100% |████████████████████████████████| 71kB 4.3MB/s \n",
            "\u001b[?25h"
          ],
          "name": "stdout"
        }
      ]
    },
    {
      "cell_type": "code",
      "metadata": {
        "id": "rlYMFKeD8iAw",
        "colab_type": "code",
        "colab": {}
      },
      "source": [
        "os.environ[\"GOOGLE_APPLICATION_CREDENTIALS\"]=\"/content/gdrive/My Drive/flowersapi.json\""
      ],
      "execution_count": 0,
      "outputs": []
    },
    {
      "cell_type": "markdown",
      "metadata": {
        "id": "BmW60rRnBE0f",
        "colab_type": "text"
      },
      "source": [
        "**Call API for GCP sentiment analysis**"
      ]
    },
    {
      "cell_type": "code",
      "metadata": {
        "id": "oml_T2gubHtR",
        "colab_type": "code",
        "colab": {}
      },
      "source": [
        "def gcp_analyze_sentiment(content):\n",
        "    client = language_v1.LanguageServiceClient()\n",
        "    if isinstance(content, six.binary_type):\n",
        "        content = content.decode('utf-8')\n",
        "    type_ = enums.Document.Type.PLAIN_TEXT\n",
        "    document = {'type': type_, 'content': content}\n",
        "    response = client.analyze_sentiment(document)\n",
        "    sentiment = response.document_sentiment.score\n",
        "    return(sentiment)"
      ],
      "execution_count": 0,
      "outputs": []
    },
    {
      "cell_type": "code",
      "metadata": {
        "id": "YmMmYVYl96xr",
        "colab_type": "code",
        "colab": {}
      },
      "source": [
        "df[\"GCP_sentiment_score\"] = df[\"reviews\"].apply(lambda x: gcp_analyze_sentiment(x))"
      ],
      "execution_count": 0,
      "outputs": []
    },
    {
      "cell_type": "code",
      "metadata": {
        "id": "1jS3nSAy8UCO",
        "colab_type": "code",
        "outputId": "d7f0071d-c672-4924-94bb-479beb2d42f1",
        "colab": {
          "base_uri": "https://localhost:8080/",
          "height": 204
        }
      },
      "source": [
        "df.head()"
      ],
      "execution_count": 0,
      "outputs": [
        {
          "output_type": "execute_result",
          "data": {
            "text/html": [
              "<div>\n",
              "<style scoped>\n",
              "    .dataframe tbody tr th:only-of-type {\n",
              "        vertical-align: middle;\n",
              "    }\n",
              "\n",
              "    .dataframe tbody tr th {\n",
              "        vertical-align: top;\n",
              "    }\n",
              "\n",
              "    .dataframe thead th {\n",
              "        text-align: right;\n",
              "    }\n",
              "</style>\n",
              "<table border=\"1\" class=\"dataframe\">\n",
              "  <thead>\n",
              "    <tr style=\"text-align: right;\">\n",
              "      <th></th>\n",
              "      <th>reviews.rating</th>\n",
              "      <th>reviews</th>\n",
              "      <th>Sentiment</th>\n",
              "      <th>AWS_sentiment</th>\n",
              "      <th>GCP_sentiment_score</th>\n",
              "    </tr>\n",
              "  </thead>\n",
              "  <tbody>\n",
              "    <tr>\n",
              "      <th>126</th>\n",
              "      <td>1.0</td>\n",
              "      <td>i Bought this around black friday for $60 hopi...</td>\n",
              "      <td>NEGATIVE</td>\n",
              "      <td>NEGATIVE</td>\n",
              "      <td>-0.3</td>\n",
              "    </tr>\n",
              "    <tr>\n",
              "      <th>169</th>\n",
              "      <td>1.0</td>\n",
              "      <td>I bought this tablet for my 4 year old daughte...</td>\n",
              "      <td>NEGATIVE</td>\n",
              "      <td>NEGATIVE</td>\n",
              "      <td>-0.3</td>\n",
              "    </tr>\n",
              "    <tr>\n",
              "      <th>241</th>\n",
              "      <td>1.0</td>\n",
              "      <td>Didn't want to go to the sites amazon wanted m...</td>\n",
              "      <td>NEGATIVE</td>\n",
              "      <td>NEGATIVE</td>\n",
              "      <td>-0.7</td>\n",
              "    </tr>\n",
              "    <tr>\n",
              "      <th>297</th>\n",
              "      <td>1.0</td>\n",
              "      <td>This Kindle is so overloaded with apps that I ...</td>\n",
              "      <td>NEGATIVE</td>\n",
              "      <td>NEGATIVE</td>\n",
              "      <td>-0.3</td>\n",
              "    </tr>\n",
              "    <tr>\n",
              "      <th>310</th>\n",
              "      <td>1.0</td>\n",
              "      <td>I liked it at first except the browser is kind...</td>\n",
              "      <td>NEGATIVE</td>\n",
              "      <td>NEGATIVE</td>\n",
              "      <td>-0.2</td>\n",
              "    </tr>\n",
              "  </tbody>\n",
              "</table>\n",
              "</div>"
            ],
            "text/plain": [
              "     reviews.rating                                            reviews  \\\n",
              "126             1.0  i Bought this around black friday for $60 hopi...   \n",
              "169             1.0  I bought this tablet for my 4 year old daughte...   \n",
              "241             1.0  Didn't want to go to the sites amazon wanted m...   \n",
              "297             1.0  This Kindle is so overloaded with apps that I ...   \n",
              "310             1.0  I liked it at first except the browser is kind...   \n",
              "\n",
              "    Sentiment AWS_sentiment  GCP_sentiment_score  \n",
              "126  NEGATIVE      NEGATIVE                 -0.3  \n",
              "169  NEGATIVE      NEGATIVE                 -0.3  \n",
              "241  NEGATIVE      NEGATIVE                 -0.7  \n",
              "297  NEGATIVE      NEGATIVE                 -0.3  \n",
              "310  NEGATIVE      NEGATIVE                 -0.2  "
            ]
          },
          "metadata": {
            "tags": []
          },
          "execution_count": 17
        }
      ]
    },
    {
      "cell_type": "markdown",
      "metadata": {
        "id": "tSD9OVKjBUA0",
        "colab_type": "text"
      },
      "source": [
        "**Transform into same scale**"
      ]
    },
    {
      "cell_type": "code",
      "metadata": {
        "id": "XsjUlY30eIs-",
        "colab_type": "code",
        "colab": {}
      },
      "source": [
        "df.loc[ df[\"GCP_sentiment_score\"] < 0.5, 'GCP_sentiment' ] = 'NEGATIVE'\n",
        "df.loc[ df[\"GCP_sentiment_score\"] > 0.5, 'GCP_sentiment' ] = 'POSITIVE'\n",
        "df.loc[ df[\"GCP_sentiment_score\"] == 0.5, 'GCP_sentiment' ] = 'NEUTRAL'"
      ],
      "execution_count": 0,
      "outputs": []
    },
    {
      "cell_type": "code",
      "metadata": {
        "id": "aJRZA_bbAf0T",
        "colab_type": "code",
        "outputId": "6c602775-9d0d-4c2a-f510-75fc6f65090e",
        "colab": {
          "base_uri": "https://localhost:8080/",
          "height": 204
        }
      },
      "source": [
        "df.head()"
      ],
      "execution_count": 0,
      "outputs": [
        {
          "output_type": "execute_result",
          "data": {
            "text/html": [
              "<div>\n",
              "<style scoped>\n",
              "    .dataframe tbody tr th:only-of-type {\n",
              "        vertical-align: middle;\n",
              "    }\n",
              "\n",
              "    .dataframe tbody tr th {\n",
              "        vertical-align: top;\n",
              "    }\n",
              "\n",
              "    .dataframe thead th {\n",
              "        text-align: right;\n",
              "    }\n",
              "</style>\n",
              "<table border=\"1\" class=\"dataframe\">\n",
              "  <thead>\n",
              "    <tr style=\"text-align: right;\">\n",
              "      <th></th>\n",
              "      <th>reviews.rating</th>\n",
              "      <th>reviews</th>\n",
              "      <th>Sentiment</th>\n",
              "      <th>AWS_sentiment</th>\n",
              "      <th>GCP_sentiment_score</th>\n",
              "      <th>GCP_sentiment</th>\n",
              "    </tr>\n",
              "  </thead>\n",
              "  <tbody>\n",
              "    <tr>\n",
              "      <th>126</th>\n",
              "      <td>1.0</td>\n",
              "      <td>i Bought this around black friday for $60 hopi...</td>\n",
              "      <td>NEGATIVE</td>\n",
              "      <td>NEGATIVE</td>\n",
              "      <td>-0.3</td>\n",
              "      <td>NEGATIVE</td>\n",
              "    </tr>\n",
              "    <tr>\n",
              "      <th>169</th>\n",
              "      <td>1.0</td>\n",
              "      <td>I bought this tablet for my 4 year old daughte...</td>\n",
              "      <td>NEGATIVE</td>\n",
              "      <td>NEGATIVE</td>\n",
              "      <td>-0.3</td>\n",
              "      <td>NEGATIVE</td>\n",
              "    </tr>\n",
              "    <tr>\n",
              "      <th>241</th>\n",
              "      <td>1.0</td>\n",
              "      <td>Didn't want to go to the sites amazon wanted m...</td>\n",
              "      <td>NEGATIVE</td>\n",
              "      <td>NEGATIVE</td>\n",
              "      <td>-0.7</td>\n",
              "      <td>NEGATIVE</td>\n",
              "    </tr>\n",
              "    <tr>\n",
              "      <th>297</th>\n",
              "      <td>1.0</td>\n",
              "      <td>This Kindle is so overloaded with apps that I ...</td>\n",
              "      <td>NEGATIVE</td>\n",
              "      <td>NEGATIVE</td>\n",
              "      <td>-0.3</td>\n",
              "      <td>NEGATIVE</td>\n",
              "    </tr>\n",
              "    <tr>\n",
              "      <th>310</th>\n",
              "      <td>1.0</td>\n",
              "      <td>I liked it at first except the browser is kind...</td>\n",
              "      <td>NEGATIVE</td>\n",
              "      <td>NEGATIVE</td>\n",
              "      <td>-0.2</td>\n",
              "      <td>NEGATIVE</td>\n",
              "    </tr>\n",
              "  </tbody>\n",
              "</table>\n",
              "</div>"
            ],
            "text/plain": [
              "     reviews.rating                                            reviews  \\\n",
              "126             1.0  i Bought this around black friday for $60 hopi...   \n",
              "169             1.0  I bought this tablet for my 4 year old daughte...   \n",
              "241             1.0  Didn't want to go to the sites amazon wanted m...   \n",
              "297             1.0  This Kindle is so overloaded with apps that I ...   \n",
              "310             1.0  I liked it at first except the browser is kind...   \n",
              "\n",
              "    Sentiment AWS_sentiment  GCP_sentiment_score GCP_sentiment  \n",
              "126  NEGATIVE      NEGATIVE                 -0.3      NEGATIVE  \n",
              "169  NEGATIVE      NEGATIVE                 -0.3      NEGATIVE  \n",
              "241  NEGATIVE      NEGATIVE                 -0.7      NEGATIVE  \n",
              "297  NEGATIVE      NEGATIVE                 -0.3      NEGATIVE  \n",
              "310  NEGATIVE      NEGATIVE                 -0.2      NEGATIVE  "
            ]
          },
          "metadata": {
            "tags": []
          },
          "execution_count": 19
        }
      ]
    },
    {
      "cell_type": "markdown",
      "metadata": {
        "id": "HIPgl1BGCxg8",
        "colab_type": "text"
      },
      "source": [
        "## **Evaluate accuracy**"
      ]
    },
    {
      "cell_type": "markdown",
      "metadata": {
        "id": "xZz-mN3JC6uS",
        "colab_type": "text"
      },
      "source": [
        "**GCP VS AWS**"
      ]
    },
    {
      "cell_type": "code",
      "metadata": {
        "id": "tGW_tgxrBamA",
        "colab_type": "code",
        "outputId": "81f2c098-6d85-4f5c-87d3-6321c7e4469d",
        "colab": {
          "base_uri": "https://localhost:8080/",
          "height": 34
        }
      },
      "source": [
        "df.loc[df[\"GCP_sentiment\"] == df[\"AWS_sentiment\"], \"gcp_euqal_aws\"] = 1\n",
        "euqual_gcp_aws = df[\"gcp_euqal_aws\"].sum()\n",
        "total = len(df)\n",
        "identity_ratio_gcp_aws = euqual_gcp_aws/total\n",
        "\n",
        "identity_ratio_gcp_aws"
      ],
      "execution_count": 0,
      "outputs": [
        {
          "output_type": "execute_result",
          "data": {
            "text/plain": [
              "0.712"
            ]
          },
          "metadata": {
            "tags": []
          },
          "execution_count": 20
        }
      ]
    },
    {
      "cell_type": "markdown",
      "metadata": {
        "id": "cEt6gntrC-DI",
        "colab_type": "text"
      },
      "source": [
        "**GCP VS ORIGIN**"
      ]
    },
    {
      "cell_type": "code",
      "metadata": {
        "id": "EG4kEGybBk6j",
        "colab_type": "code",
        "outputId": "4f607fd4-edec-4916-fc5e-a5350fa52807",
        "colab": {
          "base_uri": "https://localhost:8080/",
          "height": 34
        }
      },
      "source": [
        "df.loc[df[\"GCP_sentiment\"] == df[\"Sentiment\"], \"gcp_euqal_origin\"] = 1\n",
        "equal_gcp_origin = df[\"gcp_euqal_origin\"].sum()\n",
        "total = len(df)\n",
        "identity_ratio_gcp_origin = equal_gcp_origin/total\n",
        "\n",
        "identity_ratio_gcp_origin"
      ],
      "execution_count": 0,
      "outputs": [
        {
          "output_type": "execute_result",
          "data": {
            "text/plain": [
              "0.704"
            ]
          },
          "metadata": {
            "tags": []
          },
          "execution_count": 21
        }
      ]
    },
    {
      "cell_type": "markdown",
      "metadata": {
        "id": "88SbnK0CDB4b",
        "colab_type": "text"
      },
      "source": [
        "**AWS VS ORIGIN**"
      ]
    },
    {
      "cell_type": "code",
      "metadata": {
        "id": "7DQoLnxsC-mg",
        "colab_type": "code",
        "outputId": "569beb50-1dc9-461a-d70d-c9b90f99a605",
        "colab": {
          "base_uri": "https://localhost:8080/",
          "height": 34
        }
      },
      "source": [
        "df.loc[df[\"AWS_sentiment\"] == df[\"Sentiment\"], \"aws_euqal_origin\"] = 1\n",
        "equal_aws_origin = df[\"aws_euqal_origin\"].sum()\n",
        "total = len(df)\n",
        "identity_ratio_aws_origin = equal_aws_origin/total\n",
        "\n",
        "identity_ratio_aws_origin"
      ],
      "execution_count": 0,
      "outputs": [
        {
          "output_type": "execute_result",
          "data": {
            "text/plain": [
              "0.672"
            ]
          },
          "metadata": {
            "tags": []
          },
          "execution_count": 22
        }
      ]
    }
  ]
}